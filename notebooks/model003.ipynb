{
 "cells": [
  {
   "cell_type": "markdown",
   "metadata": {},
   "source": [
    "# 最大カバー問題\n"
   ]
  },
  {
   "cell_type": "code",
   "execution_count": 6,
   "metadata": {},
   "outputs": [
    {
     "name": "stdout",
     "output_type": "stream",
     "text": [
      "Welcome to the CBC MILP Solver \n",
      "Version: 2.10.3 \n",
      "Build Date: Dec 15 2019 \n",
      "\n",
      "command line - /Users/shugo/Desktop/Lab/高大連携/code/kodai-renkei/.venv/lib/python3.10/site-packages/pulp/solverdir/cbc/osx/64/cbc /var/folders/l6/wzrvt4j10r97v2dkh7l274fw0000gn/T/09912522253b4467b4616e12c69b972a-pulp.mps -max -timeMode elapsed -branch -printingOptions all -solution /var/folders/l6/wzrvt4j10r97v2dkh7l274fw0000gn/T/09912522253b4467b4616e12c69b972a-pulp.sol (default strategy 1)\n",
      "At line 2 NAME          MODEL\n",
      "At line 3 ROWS\n",
      "At line 40 COLUMNS\n",
      "At line 320 RHS\n",
      "At line 356 BOUNDS\n",
      "At line 407 ENDATA\n",
      "Problem MODEL has 35 rows, 50 columns and 154 elements\n",
      "Coin0008I MODEL read with 0 errors\n",
      "Option for timeMode changed from cpu to elapsed\n",
      "Continuous objective value is 19 - 0.00 seconds\n",
      "Cgl0004I processed model has 22 rows, 34 columns (34 integer (32 of which binary)) and 118 elements\n",
      "Cutoff increment increased from 1e-05 to 0.9999\n",
      "Cbc0038I Initial state - 0 integers unsatisfied sum - 0\n",
      "Cbc0038I Solution found of -19\n",
      "Cbc0038I Cleaned solution of -19\n",
      "Cbc0038I Before mini branch and bound, 34 integers at bound fixed and 0 continuous\n",
      "Cbc0038I Mini branch and bound did not improve solution (0.01 seconds)\n",
      "Cbc0038I After 0.01 seconds - Feasibility pump exiting with objective of -19 - took 0.00 seconds\n",
      "Cbc0012I Integer solution of -19 found by feasibility pump after 0 iterations and 0 nodes (0.01 seconds)\n",
      "Cbc0001I Search completed - best objective -19, took 0 iterations and 0 nodes (0.01 seconds)\n",
      "Cbc0035I Maximum depth 0, 0 variables fixed on reduced cost\n",
      "Cuts at root node changed objective from -19 to -19\n",
      "Probing was tried 0 times and created 0 cuts of which 0 were active after adding rounds of cuts (0.000 seconds)\n",
      "Gomory was tried 0 times and created 0 cuts of which 0 were active after adding rounds of cuts (0.000 seconds)\n",
      "Knapsack was tried 0 times and created 0 cuts of which 0 were active after adding rounds of cuts (0.000 seconds)\n",
      "Clique was tried 0 times and created 0 cuts of which 0 were active after adding rounds of cuts (0.000 seconds)\n",
      "MixedIntegerRounding2 was tried 0 times and created 0 cuts of which 0 were active after adding rounds of cuts (0.000 seconds)\n",
      "FlowCover was tried 0 times and created 0 cuts of which 0 were active after adding rounds of cuts (0.000 seconds)\n",
      "TwoMirCuts was tried 0 times and created 0 cuts of which 0 were active after adding rounds of cuts (0.000 seconds)\n",
      "ZeroHalf was tried 0 times and created 0 cuts of which 0 were active after adding rounds of cuts (0.000 seconds)\n",
      "\n",
      "Result - Optimal solution found\n",
      "\n",
      "Objective value:                19.00000000\n",
      "Enumerated nodes:               0\n",
      "Total iterations:               0\n",
      "Time (CPU seconds):             0.00\n",
      "Time (Wallclock seconds):       0.01\n",
      "\n",
      "Option for printingOptions changed from normal to all\n",
      "Total time (CPU seconds):       0.00   (Wallclock seconds):       0.02\n",
      "\n",
      "Status: Optimal\n",
      "Number of lamps: 5.0\n",
      "Number of covered points: 19.0\n"
     ]
    }
   ],
   "source": [
    "import pulp\n",
    "import matplotlib.pyplot as plt\n",
    "import matplotlib.patches as patches\n",
    "import numpy as np\n",
    "import japanize_matplotlib\n",
    "\n",
    "japanize_matplotlib.japanize()\n",
    "plt.style.use(\"ggplot\")\n",
    "\n",
    "# パラメータの設定\n",
    "locations = 20  # 街灯を設置できる場所の数（これがカバーすべき地点の数と同じ）\n",
    "coverage_range = 2  # 街灯がカバーできる距離\n",
    "max_lamps = 5  # 設置可能な街灯の最大数\n",
    "mandatory_points = [0, 5, 10, 15]  # 必ずカバーすべき地点のインデックス\n",
    "\n",
    "# 位置情報（ランダムに生成）\n",
    "np.random.seed(0)\n",
    "positions = np.random.rand(locations, 2) * 10  # 共通の位置情報\n",
    "\n",
    "# 新しい必須カバー地点の追加：駅(station)と学校(school)\n",
    "station_index = 20  # 駅のインデックス\n",
    "school_index = 21  # 学校のインデックス\n",
    "\n",
    "# 駅と学校の位置を設定\n",
    "station_position = np.array([1, 1])  # 駅の位置\n",
    "school_position = np.array([9, 9])  # 学校の位置\n",
    "\n",
    "# 通学路上の追加地点\n",
    "intermediate_positions = np.linspace(station_position, school_position, num=5)\n",
    "mandatory_points.extend([station_index, school_index] + list(range(22, 25)))\n",
    "\n",
    "# 位置情報配列の更新\n",
    "positions = np.vstack([positions, station_position, school_position, intermediate_positions[1:-1]])\n",
    "\n",
    "# カバー行列の更新\n",
    "locations = len(positions)  # 全位置の数の更新\n",
    "cover = np.zeros((locations, locations), dtype=int)\n",
    "for i in range(locations):\n",
    "    for j in range(locations):\n",
    "        if np.linalg.norm(positions[i] - positions[j]) <= coverage_range:\n",
    "            cover[i, j] = 1\n",
    "\n",
    "# PuLPの問題設定\n",
    "prob = pulp.LpProblem(\"Street_Light_Placement\", pulp.LpMaximize)\n",
    "\n",
    "# 変数\n",
    "x = pulp.LpVariable.dicts(\"x\", range(locations), cat=\"Binary\")\n",
    "y = pulp.LpVariable.dicts(\"y\", range(locations), cat=\"Binary\")\n",
    "\n",
    "# 目的関数\n",
    "prob += pulp.lpSum(y[j] for j in range(locations))\n",
    "\n",
    "# 制約条件\n",
    "for j in range(locations):\n",
    "    prob += y[j] <= pulp.lpSum(cover[i][j] * x[i] for i in range(locations))\n",
    "prob += pulp.lpSum(x[i] for i in range(locations)) <= max_lamps\n",
    "\n",
    "# 特定の地点を必ずカバーする制約\n",
    "for j in mandatory_points:\n",
    "    prob += y[j] == 1\n",
    "\n",
    "# 求解\n",
    "prob.solve()\n",
    "\n",
    "# 結果の表示\n",
    "lamp_status = [pulp.value(x[i]) for i in range(locations)]\n",
    "point_covered = [pulp.value(y[j]) for j in range(locations)]\n",
    "\n",
    "print(\"Status:\", pulp.LpStatus[prob.status])\n",
    "print(\"Number of lamps:\", sum(lamp_status))\n",
    "print(\"Number of covered points:\", sum(point_covered))"
   ]
  },
  {
   "cell_type": "code",
   "execution_count": 87,
   "metadata": {},
   "outputs": [],
   "source": [
    "import plotly.graph_objects as go\n",
    "\n",
    "\n",
    "def create_2d_plot(\n",
    "    positions: np.ndarray,\n",
    "    lamp_status: list,\n",
    "    point_covered: list,\n",
    "    coverage_range: int,\n",
    "    mandatory_points: list[int],\n",
    "    station_index: int,\n",
    "    school_index: int,\n",
    "    route_points: list[int],  # List of indices for the commuting route\n",
    ") -> go.Figure:\n",
    "    is_display_legend_placed_lamps = True\n",
    "    is_display_legend_not_placed_lamps = True\n",
    "    is_display_legend_covered_points = True\n",
    "    is_display_legend_mandatory_points = True\n",
    "\n",
    "    fig = go.Figure()\n",
    "    # Add a path for the commuting route\n",
    "    route_positions = [positions[idx] for idx in [station_index, *route_points, school_index]]\n",
    "    fig.add_trace(\n",
    "        go.Scatter(\n",
    "            x=[pos[0] for pos in route_positions],\n",
    "            y=[pos[1] for pos in route_positions],\n",
    "            mode=\"lines+markers\",\n",
    "            line=dict(color=\"black\", width=4),\n",
    "            marker=dict(color=\"black\", size=10, symbol=\"diamond\"),\n",
    "            name=\"通学路\",\n",
    "        )\n",
    "    )\n",
    "\n",
    "    for i, (pos, lamp, cover) in enumerate(zip(positions, lamp_status, point_covered)):\n",
    "        # Add a larger square for streetlamps\n",
    "        if lamp == 1:\n",
    "            fig.add_shape(\n",
    "                type=\"circle\",\n",
    "                xref=\"x\",\n",
    "                yref=\"y\",\n",
    "                x0=pos[0] - 0.3,\n",
    "                y0=pos[1] - 0.3,\n",
    "                x1=pos[0] + 0.3,\n",
    "                y1=pos[1] + 0.3,\n",
    "                line_color=\"red\",\n",
    "                # fillcolor=\"green\",\n",
    "                # opacity=0.3,\n",
    "                opacity=1.0,\n",
    "                line_width=2,\n",
    "                name=\"街灯位置\",\n",
    "                showlegend=is_display_legend_placed_lamps,\n",
    "            )\n",
    "            is_display_legend_placed_lamps = False\n",
    "            fig.add_shape(\n",
    "                type=\"circle\",\n",
    "                xref=\"x\",\n",
    "                yref=\"y\",\n",
    "                x0=pos[0] - coverage_range,\n",
    "                y0=pos[1] - coverage_range,\n",
    "                x1=pos[0] + coverage_range,\n",
    "                y1=pos[1] + coverage_range,\n",
    "                line_color=\"yellow\",\n",
    "                fillcolor=\"yellow\",\n",
    "                opacity=0.3,\n",
    "                showlegend=False,\n",
    "            )\n",
    "        if i == station_index or i == school_index:\n",
    "            # Mark station and school positions\n",
    "            symbol, color, label = (\n",
    "                (\"x\", \"brown\", \"駅\") if i == station_index else (\"cross\", \"purple\", \"学校\")\n",
    "            )\n",
    "            fig.add_trace(\n",
    "                go.Scatter(\n",
    "                    x=[pos[0]],\n",
    "                    y=[pos[1]],\n",
    "                    mode=\"markers\",\n",
    "                    marker=dict(color=color, symbol=symbol, size=15),\n",
    "                    name=label,\n",
    "                    showlegend=True,\n",
    "                )\n",
    "            )\n",
    "        elif i in mandatory_points:\n",
    "            # Mark mandatory points\n",
    "            fig.add_trace(\n",
    "                go.Scatter(\n",
    "                    x=[pos[0]],\n",
    "                    y=[pos[1]],\n",
    "                    mode=\"markers\",\n",
    "                    marker=dict(color=\"red\", symbol=\"star\", size=15),\n",
    "                    name=\"必須カバー地点\",\n",
    "                    showlegend=is_display_legend_mandatory_points,\n",
    "                )\n",
    "            )\n",
    "            is_display_legend_mandatory_points = False\n",
    "        elif cover == 0:\n",
    "            # Mark uncovered points\n",
    "            fig.add_trace(\n",
    "                go.Scatter(\n",
    "                    x=[pos[0]],\n",
    "                    y=[pos[1]],\n",
    "                    mode=\"markers\",\n",
    "                    marker=dict(color=\"black\", symbol=\"circle\", size=10),\n",
    "                    name=\"カバーされていない地点\",\n",
    "                    showlegend=is_display_legend_covered_points,\n",
    "                )\n",
    "            )\n",
    "            is_display_legend_covered_points = False\n",
    "        else:\n",
    "            # Mark covered points\n",
    "            fig.add_trace(\n",
    "                go.Scatter(\n",
    "                    x=[pos[0]],\n",
    "                    y=[pos[1]],\n",
    "                    mode=\"markers\",\n",
    "                    marker=dict(color=\"blue\", symbol=\"square\", size=12),\n",
    "                    name=\"カバーされた地点\",\n",
    "                    showlegend=is_display_legend_not_placed_lamps,\n",
    "                )\n",
    "            )\n",
    "            is_display_legend_not_placed_lamps = False\n",
    "\n",
    "    fig.update_layout(\n",
    "        title=\"街灯設置の結果\",\n",
    "        xaxis_title=\"x 座標\",\n",
    "        yaxis_title=\"y 座標\",\n",
    "        legend_title=\"凡例\",\n",
    "        width=800,\n",
    "        height=800,\n",
    "        xaxis=dict(range=[-1, 12]),\n",
    "        yaxis=dict(range=[-1, 12]),\n",
    "    )\n",
    "\n",
    "    return fig"
   ]
  },
  {
   "cell_type": "code",
   "execution_count": 89,
   "metadata": {},
   "outputs": [
    {
     "data": {
      "application/vnd.plotly.v1+json": {
       "config": {
        "plotlyServerURL": "https://plot.ly"
       },
       "data": [
        {
         "line": {
          "color": "black",
          "width": 4
         },
         "marker": {
          "color": "black",
          "size": 10,
          "symbol": "diamond"
         },
         "mode": "lines+markers",
         "name": "通学路",
         "type": "scatter",
         "x": [
          1,
          3,
          5,
          7,
          9
         ],
         "y": [
          1,
          3,
          5,
          7,
          9
         ]
        },
        {
         "marker": {
          "color": "red",
          "size": 15,
          "symbol": "star"
         },
         "mode": "markers",
         "name": "必須カバー地点",
         "showlegend": true,
         "type": "scatter",
         "x": [
          5.4881350392732475
         ],
         "y": [
          7.151893663724195
         ]
        },
        {
         "marker": {
          "color": "blue",
          "size": 12,
          "symbol": "square"
         },
         "mode": "markers",
         "name": "カバーされた地点",
         "showlegend": true,
         "type": "scatter",
         "x": [
          6.027633760716439
         ],
         "y": [
          5.448831829968968
         ]
        },
        {
         "marker": {
          "color": "blue",
          "size": 12,
          "symbol": "square"
         },
         "mode": "markers",
         "name": "カバーされた地点",
         "showlegend": false,
         "type": "scatter",
         "x": [
          4.236547993389047
         ],
         "y": [
          6.458941130666561
         ]
        },
        {
         "marker": {
          "color": "blue",
          "size": 12,
          "symbol": "square"
         },
         "mode": "markers",
         "name": "カバーされた地点",
         "showlegend": false,
         "type": "scatter",
         "x": [
          4.375872112626925
         ],
         "y": [
          8.917730007820797
         ]
        },
        {
         "marker": {
          "color": "black",
          "size": 10,
          "symbol": "circle"
         },
         "mode": "markers",
         "name": "カバーされていない地点",
         "showlegend": true,
         "type": "scatter",
         "x": [
          9.636627605010293
         ],
         "y": [
          3.8344151882577773
         ]
        },
        {
         "marker": {
          "color": "red",
          "size": 15,
          "symbol": "star"
         },
         "mode": "markers",
         "name": "必須カバー地点",
         "showlegend": false,
         "type": "scatter",
         "x": [
          7.917250380826646
         ],
         "y": [
          5.288949197529044
         ]
        },
        {
         "marker": {
          "color": "blue",
          "size": 12,
          "symbol": "square"
         },
         "mode": "markers",
         "name": "カバーされた地点",
         "showlegend": false,
         "type": "scatter",
         "x": [
          5.680445610939323
         ],
         "y": [
          9.25596638292661
         ]
        },
        {
         "marker": {
          "color": "blue",
          "size": 12,
          "symbol": "square"
         },
         "mode": "markers",
         "name": "カバーされた地点",
         "showlegend": false,
         "type": "scatter",
         "x": [
          0.7103605819788694
         ],
         "y": [
          0.8712929970154071
         ]
        },
        {
         "marker": {
          "color": "black",
          "size": 10,
          "symbol": "circle"
         },
         "mode": "markers",
         "name": "カバーされていない地点",
         "showlegend": false,
         "type": "scatter",
         "x": [
          0.2021839744032572
         ],
         "y": [
          8.32619845547938
         ]
        },
        {
         "marker": {
          "color": "blue",
          "size": 12,
          "symbol": "square"
         },
         "mode": "markers",
         "name": "カバーされた地点",
         "showlegend": false,
         "type": "scatter",
         "x": [
          7.781567509498505
         ],
         "y": [
          8.700121482468191
         ]
        },
        {
         "marker": {
          "color": "red",
          "size": 15,
          "symbol": "star"
         },
         "mode": "markers",
         "name": "必須カバー地点",
         "showlegend": false,
         "type": "scatter",
         "x": [
          9.78618342232764
         ],
         "y": [
          7.9915856421672355
         ]
        },
        {
         "marker": {
          "color": "blue",
          "size": 12,
          "symbol": "square"
         },
         "mode": "markers",
         "name": "カバーされた地点",
         "showlegend": false,
         "type": "scatter",
         "x": [
          4.6147936225293185
         ],
         "y": [
          7.805291762864554
         ]
        },
        {
         "marker": {
          "color": "black",
          "size": 10,
          "symbol": "circle"
         },
         "mode": "markers",
         "name": "カバーされていない地点",
         "showlegend": false,
         "type": "scatter",
         "x": [
          1.1827442586893322
         ],
         "y": [
          6.399210213275238
         ]
        },
        {
         "marker": {
          "color": "black",
          "size": 10,
          "symbol": "circle"
         },
         "mode": "markers",
         "name": "カバーされていない地点",
         "showlegend": false,
         "type": "scatter",
         "x": [
          1.433532874090464
         ],
         "y": [
          9.446689170495839
         ]
        },
        {
         "marker": {
          "color": "blue",
          "size": 12,
          "symbol": "square"
         },
         "mode": "markers",
         "name": "カバーされた地点",
         "showlegend": false,
         "type": "scatter",
         "x": [
          5.218483217500717
         ],
         "y": [
          4.146619399905235
         ]
        },
        {
         "marker": {
          "color": "red",
          "size": 15,
          "symbol": "star"
         },
         "mode": "markers",
         "name": "必須カバー地点",
         "showlegend": false,
         "type": "scatter",
         "x": [
          2.64555612104627
         ],
         "y": [
          7.742336894342166
         ]
        },
        {
         "marker": {
          "color": "blue",
          "size": 12,
          "symbol": "square"
         },
         "mode": "markers",
         "name": "カバーされた地点",
         "showlegend": false,
         "type": "scatter",
         "x": [
          4.5615033221654855
         ],
         "y": [
          5.684339488686485
         ]
        },
        {
         "marker": {
          "color": "black",
          "size": 10,
          "symbol": "circle"
         },
         "mode": "markers",
         "name": "カバーされていない地点",
         "showlegend": false,
         "type": "scatter",
         "x": [
          0.18789800436355142
         ],
         "y": [
          6.176354970758771
         ]
        },
        {
         "marker": {
          "color": "blue",
          "size": 12,
          "symbol": "square"
         },
         "mode": "markers",
         "name": "カバーされた地点",
         "showlegend": false,
         "type": "scatter",
         "x": [
          6.120957227224214
         ],
         "y": [
          6.169339968747569
         ]
        },
        {
         "marker": {
          "color": "black",
          "size": 10,
          "symbol": "circle"
         },
         "mode": "markers",
         "name": "カバーされていない地点",
         "showlegend": false,
         "type": "scatter",
         "x": [
          9.437480785146242
         ],
         "y": [
          6.818202991034834
         ]
        },
        {
         "marker": {
          "color": "brown",
          "size": 15,
          "symbol": "x"
         },
         "mode": "markers",
         "name": "駅",
         "showlegend": true,
         "type": "scatter",
         "x": [
          1
         ],
         "y": [
          1
         ]
        },
        {
         "marker": {
          "color": "purple",
          "size": 15,
          "symbol": "cross"
         },
         "mode": "markers",
         "name": "学校",
         "showlegend": true,
         "type": "scatter",
         "x": [
          9
         ],
         "y": [
          9
         ]
        },
        {
         "marker": {
          "color": "red",
          "size": 15,
          "symbol": "star"
         },
         "mode": "markers",
         "name": "必須カバー地点",
         "showlegend": false,
         "type": "scatter",
         "x": [
          3
         ],
         "y": [
          3
         ]
        },
        {
         "marker": {
          "color": "red",
          "size": 15,
          "symbol": "star"
         },
         "mode": "markers",
         "name": "必須カバー地点",
         "showlegend": false,
         "type": "scatter",
         "x": [
          5
         ],
         "y": [
          5
         ]
        },
        {
         "marker": {
          "color": "red",
          "size": 15,
          "symbol": "star"
         },
         "mode": "markers",
         "name": "必須カバー地点",
         "showlegend": false,
         "type": "scatter",
         "x": [
          7
         ],
         "y": [
          7
         ]
        }
       ],
       "layout": {
        "height": 800,
        "legend": {
         "title": {
          "text": "凡例"
         }
        },
        "shapes": [
         {
          "line": {
           "color": "red",
           "width": 2
          },
          "name": "街灯位置",
          "opacity": 1,
          "showlegend": true,
          "type": "circle",
          "x0": 5.727633760716439,
          "x1": 6.327633760716439,
          "xref": "x",
          "y0": 5.148831829968969,
          "y1": 5.748831829968968,
          "yref": "y"
         },
         {
          "fillcolor": "yellow",
          "line": {
           "color": "yellow"
          },
          "opacity": 0.3,
          "showlegend": false,
          "type": "circle",
          "x0": 4.027633760716439,
          "x1": 8.027633760716439,
          "xref": "x",
          "y0": 3.4488318299689684,
          "y1": 7.448831829968968,
          "yref": "y"
         },
         {
          "line": {
           "color": "red",
           "width": 2
          },
          "name": "街灯位置",
          "opacity": 1,
          "showlegend": false,
          "type": "circle",
          "x0": 4.314793622529319,
          "x1": 4.914793622529318,
          "xref": "x",
          "y0": 7.505291762864554,
          "y1": 8.105291762864555,
          "yref": "y"
         },
         {
          "fillcolor": "yellow",
          "line": {
           "color": "yellow"
          },
          "opacity": 0.3,
          "showlegend": false,
          "type": "circle",
          "x0": 2.6147936225293185,
          "x1": 6.6147936225293185,
          "xref": "x",
          "y0": 5.805291762864554,
          "y1": 9.805291762864554,
          "yref": "y"
         },
         {
          "line": {
           "color": "red",
           "width": 2
          },
          "name": "街灯位置",
          "opacity": 1,
          "showlegend": false,
          "type": "circle",
          "x0": 0.7,
          "x1": 1.3,
          "xref": "x",
          "y0": 0.7,
          "y1": 1.3,
          "yref": "y"
         },
         {
          "fillcolor": "yellow",
          "line": {
           "color": "yellow"
          },
          "opacity": 0.3,
          "showlegend": false,
          "type": "circle",
          "x0": -1,
          "x1": 3,
          "xref": "x",
          "y0": -1,
          "y1": 3,
          "yref": "y"
         },
         {
          "line": {
           "color": "red",
           "width": 2
          },
          "name": "街灯位置",
          "opacity": 1,
          "showlegend": false,
          "type": "circle",
          "x0": 8.7,
          "x1": 9.3,
          "xref": "x",
          "y0": 8.7,
          "y1": 9.3,
          "yref": "y"
         },
         {
          "fillcolor": "yellow",
          "line": {
           "color": "yellow"
          },
          "opacity": 0.3,
          "showlegend": false,
          "type": "circle",
          "x0": 7,
          "x1": 11,
          "xref": "x",
          "y0": 7,
          "y1": 11,
          "yref": "y"
         },
         {
          "line": {
           "color": "red",
           "width": 2
          },
          "name": "街灯位置",
          "opacity": 1,
          "showlegend": false,
          "type": "circle",
          "x0": 2.7,
          "x1": 3.3,
          "xref": "x",
          "y0": 2.7,
          "y1": 3.3,
          "yref": "y"
         },
         {
          "fillcolor": "yellow",
          "line": {
           "color": "yellow"
          },
          "opacity": 0.3,
          "showlegend": false,
          "type": "circle",
          "x0": 1,
          "x1": 5,
          "xref": "x",
          "y0": 1,
          "y1": 5,
          "yref": "y"
         }
        ],
        "template": {
         "data": {
          "bar": [
           {
            "error_x": {
             "color": "#2a3f5f"
            },
            "error_y": {
             "color": "#2a3f5f"
            },
            "marker": {
             "line": {
              "color": "#E5ECF6",
              "width": 0.5
             },
             "pattern": {
              "fillmode": "overlay",
              "size": 10,
              "solidity": 0.2
             }
            },
            "type": "bar"
           }
          ],
          "barpolar": [
           {
            "marker": {
             "line": {
              "color": "#E5ECF6",
              "width": 0.5
             },
             "pattern": {
              "fillmode": "overlay",
              "size": 10,
              "solidity": 0.2
             }
            },
            "type": "barpolar"
           }
          ],
          "carpet": [
           {
            "aaxis": {
             "endlinecolor": "#2a3f5f",
             "gridcolor": "white",
             "linecolor": "white",
             "minorgridcolor": "white",
             "startlinecolor": "#2a3f5f"
            },
            "baxis": {
             "endlinecolor": "#2a3f5f",
             "gridcolor": "white",
             "linecolor": "white",
             "minorgridcolor": "white",
             "startlinecolor": "#2a3f5f"
            },
            "type": "carpet"
           }
          ],
          "choropleth": [
           {
            "colorbar": {
             "outlinewidth": 0,
             "ticks": ""
            },
            "type": "choropleth"
           }
          ],
          "contour": [
           {
            "colorbar": {
             "outlinewidth": 0,
             "ticks": ""
            },
            "colorscale": [
             [
              0,
              "#0d0887"
             ],
             [
              0.1111111111111111,
              "#46039f"
             ],
             [
              0.2222222222222222,
              "#7201a8"
             ],
             [
              0.3333333333333333,
              "#9c179e"
             ],
             [
              0.4444444444444444,
              "#bd3786"
             ],
             [
              0.5555555555555556,
              "#d8576b"
             ],
             [
              0.6666666666666666,
              "#ed7953"
             ],
             [
              0.7777777777777778,
              "#fb9f3a"
             ],
             [
              0.8888888888888888,
              "#fdca26"
             ],
             [
              1,
              "#f0f921"
             ]
            ],
            "type": "contour"
           }
          ],
          "contourcarpet": [
           {
            "colorbar": {
             "outlinewidth": 0,
             "ticks": ""
            },
            "type": "contourcarpet"
           }
          ],
          "heatmap": [
           {
            "colorbar": {
             "outlinewidth": 0,
             "ticks": ""
            },
            "colorscale": [
             [
              0,
              "#0d0887"
             ],
             [
              0.1111111111111111,
              "#46039f"
             ],
             [
              0.2222222222222222,
              "#7201a8"
             ],
             [
              0.3333333333333333,
              "#9c179e"
             ],
             [
              0.4444444444444444,
              "#bd3786"
             ],
             [
              0.5555555555555556,
              "#d8576b"
             ],
             [
              0.6666666666666666,
              "#ed7953"
             ],
             [
              0.7777777777777778,
              "#fb9f3a"
             ],
             [
              0.8888888888888888,
              "#fdca26"
             ],
             [
              1,
              "#f0f921"
             ]
            ],
            "type": "heatmap"
           }
          ],
          "heatmapgl": [
           {
            "colorbar": {
             "outlinewidth": 0,
             "ticks": ""
            },
            "colorscale": [
             [
              0,
              "#0d0887"
             ],
             [
              0.1111111111111111,
              "#46039f"
             ],
             [
              0.2222222222222222,
              "#7201a8"
             ],
             [
              0.3333333333333333,
              "#9c179e"
             ],
             [
              0.4444444444444444,
              "#bd3786"
             ],
             [
              0.5555555555555556,
              "#d8576b"
             ],
             [
              0.6666666666666666,
              "#ed7953"
             ],
             [
              0.7777777777777778,
              "#fb9f3a"
             ],
             [
              0.8888888888888888,
              "#fdca26"
             ],
             [
              1,
              "#f0f921"
             ]
            ],
            "type": "heatmapgl"
           }
          ],
          "histogram": [
           {
            "marker": {
             "pattern": {
              "fillmode": "overlay",
              "size": 10,
              "solidity": 0.2
             }
            },
            "type": "histogram"
           }
          ],
          "histogram2d": [
           {
            "colorbar": {
             "outlinewidth": 0,
             "ticks": ""
            },
            "colorscale": [
             [
              0,
              "#0d0887"
             ],
             [
              0.1111111111111111,
              "#46039f"
             ],
             [
              0.2222222222222222,
              "#7201a8"
             ],
             [
              0.3333333333333333,
              "#9c179e"
             ],
             [
              0.4444444444444444,
              "#bd3786"
             ],
             [
              0.5555555555555556,
              "#d8576b"
             ],
             [
              0.6666666666666666,
              "#ed7953"
             ],
             [
              0.7777777777777778,
              "#fb9f3a"
             ],
             [
              0.8888888888888888,
              "#fdca26"
             ],
             [
              1,
              "#f0f921"
             ]
            ],
            "type": "histogram2d"
           }
          ],
          "histogram2dcontour": [
           {
            "colorbar": {
             "outlinewidth": 0,
             "ticks": ""
            },
            "colorscale": [
             [
              0,
              "#0d0887"
             ],
             [
              0.1111111111111111,
              "#46039f"
             ],
             [
              0.2222222222222222,
              "#7201a8"
             ],
             [
              0.3333333333333333,
              "#9c179e"
             ],
             [
              0.4444444444444444,
              "#bd3786"
             ],
             [
              0.5555555555555556,
              "#d8576b"
             ],
             [
              0.6666666666666666,
              "#ed7953"
             ],
             [
              0.7777777777777778,
              "#fb9f3a"
             ],
             [
              0.8888888888888888,
              "#fdca26"
             ],
             [
              1,
              "#f0f921"
             ]
            ],
            "type": "histogram2dcontour"
           }
          ],
          "mesh3d": [
           {
            "colorbar": {
             "outlinewidth": 0,
             "ticks": ""
            },
            "type": "mesh3d"
           }
          ],
          "parcoords": [
           {
            "line": {
             "colorbar": {
              "outlinewidth": 0,
              "ticks": ""
             }
            },
            "type": "parcoords"
           }
          ],
          "pie": [
           {
            "automargin": true,
            "type": "pie"
           }
          ],
          "scatter": [
           {
            "fillpattern": {
             "fillmode": "overlay",
             "size": 10,
             "solidity": 0.2
            },
            "type": "scatter"
           }
          ],
          "scatter3d": [
           {
            "line": {
             "colorbar": {
              "outlinewidth": 0,
              "ticks": ""
             }
            },
            "marker": {
             "colorbar": {
              "outlinewidth": 0,
              "ticks": ""
             }
            },
            "type": "scatter3d"
           }
          ],
          "scattercarpet": [
           {
            "marker": {
             "colorbar": {
              "outlinewidth": 0,
              "ticks": ""
             }
            },
            "type": "scattercarpet"
           }
          ],
          "scattergeo": [
           {
            "marker": {
             "colorbar": {
              "outlinewidth": 0,
              "ticks": ""
             }
            },
            "type": "scattergeo"
           }
          ],
          "scattergl": [
           {
            "marker": {
             "colorbar": {
              "outlinewidth": 0,
              "ticks": ""
             }
            },
            "type": "scattergl"
           }
          ],
          "scattermapbox": [
           {
            "marker": {
             "colorbar": {
              "outlinewidth": 0,
              "ticks": ""
             }
            },
            "type": "scattermapbox"
           }
          ],
          "scatterpolar": [
           {
            "marker": {
             "colorbar": {
              "outlinewidth": 0,
              "ticks": ""
             }
            },
            "type": "scatterpolar"
           }
          ],
          "scatterpolargl": [
           {
            "marker": {
             "colorbar": {
              "outlinewidth": 0,
              "ticks": ""
             }
            },
            "type": "scatterpolargl"
           }
          ],
          "scatterternary": [
           {
            "marker": {
             "colorbar": {
              "outlinewidth": 0,
              "ticks": ""
             }
            },
            "type": "scatterternary"
           }
          ],
          "surface": [
           {
            "colorbar": {
             "outlinewidth": 0,
             "ticks": ""
            },
            "colorscale": [
             [
              0,
              "#0d0887"
             ],
             [
              0.1111111111111111,
              "#46039f"
             ],
             [
              0.2222222222222222,
              "#7201a8"
             ],
             [
              0.3333333333333333,
              "#9c179e"
             ],
             [
              0.4444444444444444,
              "#bd3786"
             ],
             [
              0.5555555555555556,
              "#d8576b"
             ],
             [
              0.6666666666666666,
              "#ed7953"
             ],
             [
              0.7777777777777778,
              "#fb9f3a"
             ],
             [
              0.8888888888888888,
              "#fdca26"
             ],
             [
              1,
              "#f0f921"
             ]
            ],
            "type": "surface"
           }
          ],
          "table": [
           {
            "cells": {
             "fill": {
              "color": "#EBF0F8"
             },
             "line": {
              "color": "white"
             }
            },
            "header": {
             "fill": {
              "color": "#C8D4E3"
             },
             "line": {
              "color": "white"
             }
            },
            "type": "table"
           }
          ]
         },
         "layout": {
          "annotationdefaults": {
           "arrowcolor": "#2a3f5f",
           "arrowhead": 0,
           "arrowwidth": 1
          },
          "autotypenumbers": "strict",
          "coloraxis": {
           "colorbar": {
            "outlinewidth": 0,
            "ticks": ""
           }
          },
          "colorscale": {
           "diverging": [
            [
             0,
             "#8e0152"
            ],
            [
             0.1,
             "#c51b7d"
            ],
            [
             0.2,
             "#de77ae"
            ],
            [
             0.3,
             "#f1b6da"
            ],
            [
             0.4,
             "#fde0ef"
            ],
            [
             0.5,
             "#f7f7f7"
            ],
            [
             0.6,
             "#e6f5d0"
            ],
            [
             0.7,
             "#b8e186"
            ],
            [
             0.8,
             "#7fbc41"
            ],
            [
             0.9,
             "#4d9221"
            ],
            [
             1,
             "#276419"
            ]
           ],
           "sequential": [
            [
             0,
             "#0d0887"
            ],
            [
             0.1111111111111111,
             "#46039f"
            ],
            [
             0.2222222222222222,
             "#7201a8"
            ],
            [
             0.3333333333333333,
             "#9c179e"
            ],
            [
             0.4444444444444444,
             "#bd3786"
            ],
            [
             0.5555555555555556,
             "#d8576b"
            ],
            [
             0.6666666666666666,
             "#ed7953"
            ],
            [
             0.7777777777777778,
             "#fb9f3a"
            ],
            [
             0.8888888888888888,
             "#fdca26"
            ],
            [
             1,
             "#f0f921"
            ]
           ],
           "sequentialminus": [
            [
             0,
             "#0d0887"
            ],
            [
             0.1111111111111111,
             "#46039f"
            ],
            [
             0.2222222222222222,
             "#7201a8"
            ],
            [
             0.3333333333333333,
             "#9c179e"
            ],
            [
             0.4444444444444444,
             "#bd3786"
            ],
            [
             0.5555555555555556,
             "#d8576b"
            ],
            [
             0.6666666666666666,
             "#ed7953"
            ],
            [
             0.7777777777777778,
             "#fb9f3a"
            ],
            [
             0.8888888888888888,
             "#fdca26"
            ],
            [
             1,
             "#f0f921"
            ]
           ]
          },
          "colorway": [
           "#636efa",
           "#EF553B",
           "#00cc96",
           "#ab63fa",
           "#FFA15A",
           "#19d3f3",
           "#FF6692",
           "#B6E880",
           "#FF97FF",
           "#FECB52"
          ],
          "font": {
           "color": "#2a3f5f"
          },
          "geo": {
           "bgcolor": "white",
           "lakecolor": "white",
           "landcolor": "#E5ECF6",
           "showlakes": true,
           "showland": true,
           "subunitcolor": "white"
          },
          "hoverlabel": {
           "align": "left"
          },
          "hovermode": "closest",
          "mapbox": {
           "style": "light"
          },
          "paper_bgcolor": "white",
          "plot_bgcolor": "#E5ECF6",
          "polar": {
           "angularaxis": {
            "gridcolor": "white",
            "linecolor": "white",
            "ticks": ""
           },
           "bgcolor": "#E5ECF6",
           "radialaxis": {
            "gridcolor": "white",
            "linecolor": "white",
            "ticks": ""
           }
          },
          "scene": {
           "xaxis": {
            "backgroundcolor": "#E5ECF6",
            "gridcolor": "white",
            "gridwidth": 2,
            "linecolor": "white",
            "showbackground": true,
            "ticks": "",
            "zerolinecolor": "white"
           },
           "yaxis": {
            "backgroundcolor": "#E5ECF6",
            "gridcolor": "white",
            "gridwidth": 2,
            "linecolor": "white",
            "showbackground": true,
            "ticks": "",
            "zerolinecolor": "white"
           },
           "zaxis": {
            "backgroundcolor": "#E5ECF6",
            "gridcolor": "white",
            "gridwidth": 2,
            "linecolor": "white",
            "showbackground": true,
            "ticks": "",
            "zerolinecolor": "white"
           }
          },
          "shapedefaults": {
           "line": {
            "color": "#2a3f5f"
           }
          },
          "ternary": {
           "aaxis": {
            "gridcolor": "white",
            "linecolor": "white",
            "ticks": ""
           },
           "baxis": {
            "gridcolor": "white",
            "linecolor": "white",
            "ticks": ""
           },
           "bgcolor": "#E5ECF6",
           "caxis": {
            "gridcolor": "white",
            "linecolor": "white",
            "ticks": ""
           }
          },
          "title": {
           "x": 0.05
          },
          "xaxis": {
           "automargin": true,
           "gridcolor": "white",
           "linecolor": "white",
           "ticks": "",
           "title": {
            "standoff": 15
           },
           "zerolinecolor": "white",
           "zerolinewidth": 2
          },
          "yaxis": {
           "automargin": true,
           "gridcolor": "white",
           "linecolor": "white",
           "ticks": "",
           "title": {
            "standoff": 15
           },
           "zerolinecolor": "white",
           "zerolinewidth": 2
          }
         }
        },
        "title": {
         "text": "街灯設置の結果"
        },
        "width": 800,
        "xaxis": {
         "range": [
          -1,
          12
         ],
         "title": {
          "text": "x 座標"
         }
        },
        "yaxis": {
         "range": [
          -1,
          12
         ],
         "title": {
          "text": "y 座標"
         }
        }
       }
      }
     },
     "metadata": {},
     "output_type": "display_data"
    }
   ],
   "source": [
    "station_index = 20\n",
    "school_index = 21\n",
    "route_points = [22, 23, 24]\n",
    "create_2d_plot(\n",
    "    positions=positions,\n",
    "    lamp_status=lamp_status,\n",
    "    point_covered=point_covered,\n",
    "    coverage_range=coverage_range,\n",
    "    mandatory_points=mandatory_points,\n",
    "    station_index=station_index,\n",
    "    school_index=school_index,\n",
    "    route_points=route_points,\n",
    ").show()"
   ]
  },
  {
   "cell_type": "code",
   "execution_count": null,
   "metadata": {},
   "outputs": [],
   "source": []
  },
  {
   "cell_type": "code",
   "execution_count": null,
   "metadata": {},
   "outputs": [],
   "source": []
  },
  {
   "cell_type": "code",
   "execution_count": null,
   "metadata": {},
   "outputs": [],
   "source": []
  }
 ],
 "metadata": {
  "kernelspec": {
   "display_name": ".venv",
   "language": "python",
   "name": "python3"
  },
  "language_info": {
   "codemirror_mode": {
    "name": "ipython",
    "version": 3
   },
   "file_extension": ".py",
   "mimetype": "text/x-python",
   "name": "python",
   "nbconvert_exporter": "python",
   "pygments_lexer": "ipython3",
   "version": "3.10.13"
  }
 },
 "nbformat": 4,
 "nbformat_minor": 2
}
