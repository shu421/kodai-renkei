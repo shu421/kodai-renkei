{
 "cells": [
  {
   "cell_type": "markdown",
   "metadata": {},
   "source": [
    "# 最大カバー問題\n"
   ]
  },
  {
   "cell_type": "code",
   "execution_count": 24,
   "metadata": {},
   "outputs": [
    {
     "name": "stdout",
     "output_type": "stream",
     "text": [
      "Welcome to the CBC MILP Solver \n",
      "Version: 2.10.3 \n",
      "Build Date: Dec 15 2019 \n",
      "\n",
      "command line - /Users/shugo/Desktop/Lab/高大連携/code/kodai-renkei/.venv/lib/python3.10/site-packages/pulp/solverdir/cbc/osx/64/cbc /var/folders/l6/wzrvt4j10r97v2dkh7l274fw0000gn/T/7935742f51374427b0ed4e69ddf1f493-pulp.mps -max -timeMode elapsed -branch -printingOptions all -solution /var/folders/l6/wzrvt4j10r97v2dkh7l274fw0000gn/T/7935742f51374427b0ed4e69ddf1f493-pulp.sol (default strategy 1)\n",
      "At line 2 NAME          MODEL\n",
      "At line 3 ROWS\n",
      "At line 30 COLUMNS\n",
      "At line 239 RHS\n",
      "At line 265 BOUNDS\n",
      "At line 306 ENDATA\n",
      "Problem MODEL has 25 rows, 40 columns and 108 elements\n",
      "Coin0008I MODEL read with 0 errors\n",
      "Option for timeMode changed from cpu to elapsed\n",
      "Continuous objective value is 17 - 0.00 seconds\n",
      "Cgl0004I processed model has 16 rows, 26 columns (26 integer (23 of which binary)) and 78 elements\n",
      "Cutoff increment increased from 1e-05 to 0.9999\n",
      "Cbc0038I Initial state - 0 integers unsatisfied sum - 0\n",
      "Cbc0038I Solution found of -17\n",
      "Cbc0038I Cleaned solution of -17\n",
      "Cbc0038I Before mini branch and bound, 26 integers at bound fixed and 0 continuous of which 1 were internal integer and 0 internal continuous\n",
      "Cbc0038I Mini branch and bound did not improve solution (0.01 seconds)\n",
      "Cbc0038I After 0.01 seconds - Feasibility pump exiting with objective of -17 - took 0.00 seconds\n",
      "Cbc0012I Integer solution of -17 found by feasibility pump after 0 iterations and 0 nodes (0.01 seconds)\n",
      "Cbc0001I Search completed - best objective -17, took 0 iterations and 0 nodes (0.01 seconds)\n",
      "Cbc0035I Maximum depth 0, 0 variables fixed on reduced cost\n",
      "Cuts at root node changed objective from -17 to -17\n",
      "Probing was tried 0 times and created 0 cuts of which 0 were active after adding rounds of cuts (0.000 seconds)\n",
      "Gomory was tried 0 times and created 0 cuts of which 0 were active after adding rounds of cuts (0.000 seconds)\n",
      "Knapsack was tried 0 times and created 0 cuts of which 0 were active after adding rounds of cuts (0.000 seconds)\n",
      "Clique was tried 0 times and created 0 cuts of which 0 were active after adding rounds of cuts (0.000 seconds)\n",
      "MixedIntegerRounding2 was tried 0 times and created 0 cuts of which 0 were active after adding rounds of cuts (0.000 seconds)\n",
      "FlowCover was tried 0 times and created 0 cuts of which 0 were active after adding rounds of cuts (0.000 seconds)\n",
      "TwoMirCuts was tried 0 times and created 0 cuts of which 0 were active after adding rounds of cuts (0.000 seconds)\n",
      "ZeroHalf was tried 0 times and created 0 cuts of which 0 were active after adding rounds of cuts (0.000 seconds)\n",
      "\n",
      "Result - Optimal solution found\n",
      "\n",
      "Objective value:                17.00000000\n",
      "Enumerated nodes:               0\n",
      "Total iterations:               0\n",
      "Time (CPU seconds):             0.00\n",
      "Time (Wallclock seconds):       0.01\n",
      "\n",
      "Option for printingOptions changed from normal to all\n",
      "Total time (CPU seconds):       0.00   (Wallclock seconds):       0.02\n",
      "\n",
      "Status: Optimal\n",
      "Number of lamps: 5.0\n",
      "Number of covered points: 17.0\n"
     ]
    }
   ],
   "source": [
    "import pulp\n",
    "import matplotlib.pyplot as plt\n",
    "import matplotlib.patches as patches\n",
    "import numpy as np\n",
    "import japanize_matplotlib\n",
    "\n",
    "japanize_matplotlib.japanize()\n",
    "plt.style.use(\"ggplot\")\n",
    "\n",
    "# パラメータの設定\n",
    "locations = 20  # 街灯を設置できる場所の数（これがカバーすべき地点の数と同じ）\n",
    "coverage_range = 2  # 街灯がカバーできる距離\n",
    "max_lamps = 5  # 設置可能な街灯の最大数\n",
    "mandatory_points = [0, 5, 10, 15]  # 必ずカバーすべき地点のインデックス\n",
    "\n",
    "# 位置情報（ランダムに生成）\n",
    "np.random.seed(0)\n",
    "positions = np.random.rand(locations, 2) * 10  # 共通の位置情報\n",
    "\n",
    "# カバー行列の生成\n",
    "cover = np.zeros((locations, locations), dtype=int)\n",
    "for i in range(locations):\n",
    "    for j in range(locations):\n",
    "        if np.linalg.norm(positions[i] - positions[j]) <= coverage_range:\n",
    "            cover[i, j] = 1\n",
    "\n",
    "# PuLPの問題設定\n",
    "prob = pulp.LpProblem(\"Street_Light_Placement\", pulp.LpMaximize)\n",
    "\n",
    "# 変数\n",
    "x = pulp.LpVariable.dicts(\"x\", range(locations), cat=\"Binary\")\n",
    "y = pulp.LpVariable.dicts(\"y\", range(locations), cat=\"Binary\")\n",
    "\n",
    "# 目的関数\n",
    "prob += pulp.lpSum(y[j] for j in range(locations))\n",
    "\n",
    "# 制約条件\n",
    "for j in range(locations):\n",
    "    prob += y[j] <= pulp.lpSum(cover[i][j] * x[i] for i in range(locations))\n",
    "prob += pulp.lpSum(x[i] for i in range(locations)) <= max_lamps\n",
    "\n",
    "# 特定の地点を必ずカバーする制約\n",
    "for j in mandatory_points:\n",
    "    prob += y[j] == 1\n",
    "\n",
    "# 求解\n",
    "prob.solve()\n",
    "\n",
    "# 結果の表示\n",
    "lamp_status = [pulp.value(x[i]) for i in range(locations)]\n",
    "point_covered = [pulp.value(y[j]) for j in range(locations)]\n",
    "\n",
    "print(\"Status:\", pulp.LpStatus[prob.status])\n",
    "print(\"Number of lamps:\", sum(lamp_status))\n",
    "print(\"Number of covered points:\", sum(point_covered))"
   ]
  },
  {
   "cell_type": "code",
   "execution_count": 27,
   "metadata": {},
   "outputs": [
    {
     "data": {
      "application/vnd.plotly.v1+json": {
       "config": {
        "plotlyServerURL": "https://plot.ly"
       },
       "data": [
        {
         "marker": {
          "color": "red",
          "size": 15,
          "symbol": "star"
         },
         "mode": "markers",
         "name": "必須カバー位置",
         "showlegend": true,
         "type": "scatter",
         "x": [
          5.4881350392732475
         ],
         "y": [
          7.151893663724195
         ]
        },
        {
         "marker": {
          "color": "blue",
          "size": 12,
          "symbol": "triangle-up"
         },
         "mode": "markers",
         "name": "街灯（設置済み）",
         "showlegend": true,
         "type": "scatter",
         "x": [
          6.027633760716439
         ],
         "y": [
          5.448831829968968
         ]
        },
        {
         "marker": {
          "color": "green",
          "size": 12,
          "symbol": "square"
         },
         "mode": "markers",
         "name": "カバーされた位置",
         "showlegend": true,
         "type": "scatter",
         "x": [
          4.236547993389047
         ],
         "y": [
          6.458941130666561
         ]
        },
        {
         "marker": {
          "color": "green",
          "size": 12,
          "symbol": "square"
         },
         "mode": "markers",
         "name": "カバーされた位置",
         "showlegend": false,
         "type": "scatter",
         "x": [
          4.375872112626925
         ],
         "y": [
          8.917730007820797
         ]
        },
        {
         "marker": {
          "color": "black",
          "size": 10,
          "symbol": "circle"
         },
         "mode": "markers",
         "name": "カバーされていない位置",
         "showlegend": true,
         "type": "scatter",
         "x": [
          9.636627605010293
         ],
         "y": [
          3.8344151882577773
         ]
        },
        {
         "marker": {
          "color": "red",
          "size": 15,
          "symbol": "star"
         },
         "mode": "markers",
         "name": "必須カバー位置",
         "showlegend": false,
         "type": "scatter",
         "x": [
          7.917250380826646
         ],
         "y": [
          5.288949197529044
         ]
        },
        {
         "marker": {
          "color": "green",
          "size": 12,
          "symbol": "square"
         },
         "mode": "markers",
         "name": "カバーされた位置",
         "showlegend": false,
         "type": "scatter",
         "x": [
          5.680445610939323
         ],
         "y": [
          9.25596638292661
         ]
        },
        {
         "marker": {
          "color": "black",
          "size": 10,
          "symbol": "circle"
         },
         "mode": "markers",
         "name": "",
         "showlegend": false,
         "type": "scatter",
         "x": [
          0.7103605819788694
         ],
         "y": [
          0.8712929970154071
         ]
        },
        {
         "marker": {
          "color": "green",
          "size": 12,
          "symbol": "square"
         },
         "mode": "markers",
         "name": "カバーされた位置",
         "showlegend": false,
         "type": "scatter",
         "x": [
          0.2021839744032572
         ],
         "y": [
          8.32619845547938
         ]
        },
        {
         "marker": {
          "color": "black",
          "size": 10,
          "symbol": "circle"
         },
         "mode": "markers",
         "name": "",
         "showlegend": false,
         "type": "scatter",
         "x": [
          7.781567509498505
         ],
         "y": [
          8.700121482468191
         ]
        },
        {
         "marker": {
          "color": "blue",
          "size": 12,
          "symbol": "triangle-up"
         },
         "mode": "markers",
         "name": "街灯（設置済み）",
         "showlegend": false,
         "type": "scatter",
         "x": [
          9.78618342232764
         ],
         "y": [
          7.9915856421672355
         ]
        },
        {
         "marker": {
          "color": "blue",
          "size": 12,
          "symbol": "triangle-up"
         },
         "mode": "markers",
         "name": "街灯（設置済み）",
         "showlegend": false,
         "type": "scatter",
         "x": [
          4.6147936225293185
         ],
         "y": [
          7.805291762864554
         ]
        },
        {
         "marker": {
          "color": "blue",
          "size": 12,
          "symbol": "triangle-up"
         },
         "mode": "markers",
         "name": "街灯（設置済み）",
         "showlegend": false,
         "type": "scatter",
         "x": [
          1.1827442586893322
         ],
         "y": [
          6.399210213275238
         ]
        },
        {
         "marker": {
          "color": "blue",
          "size": 12,
          "symbol": "triangle-up"
         },
         "mode": "markers",
         "name": "街灯（設置済み）",
         "showlegend": false,
         "type": "scatter",
         "x": [
          1.433532874090464
         ],
         "y": [
          9.446689170495839
         ]
        },
        {
         "marker": {
          "color": "green",
          "size": 12,
          "symbol": "square"
         },
         "mode": "markers",
         "name": "カバーされた位置",
         "showlegend": false,
         "type": "scatter",
         "x": [
          5.218483217500717
         ],
         "y": [
          4.146619399905235
         ]
        },
        {
         "marker": {
          "color": "red",
          "size": 15,
          "symbol": "star"
         },
         "mode": "markers",
         "name": "必須カバー位置",
         "showlegend": false,
         "type": "scatter",
         "x": [
          2.64555612104627
         ],
         "y": [
          7.742336894342166
         ]
        },
        {
         "marker": {
          "color": "green",
          "size": 12,
          "symbol": "square"
         },
         "mode": "markers",
         "name": "カバーされた位置",
         "showlegend": false,
         "type": "scatter",
         "x": [
          4.5615033221654855
         ],
         "y": [
          5.684339488686485
         ]
        },
        {
         "marker": {
          "color": "green",
          "size": 12,
          "symbol": "square"
         },
         "mode": "markers",
         "name": "カバーされた位置",
         "showlegend": false,
         "type": "scatter",
         "x": [
          0.18789800436355142
         ],
         "y": [
          6.176354970758771
         ]
        },
        {
         "marker": {
          "color": "green",
          "size": 12,
          "symbol": "square"
         },
         "mode": "markers",
         "name": "カバーされた位置",
         "showlegend": false,
         "type": "scatter",
         "x": [
          6.120957227224214
         ],
         "y": [
          6.169339968747569
         ]
        },
        {
         "marker": {
          "color": "green",
          "size": 12,
          "symbol": "square"
         },
         "mode": "markers",
         "name": "カバーされた位置",
         "showlegend": false,
         "type": "scatter",
         "x": [
          9.437480785146242
         ],
         "y": [
          6.818202991034834
         ]
        }
       ],
       "layout": {
        "height": 800,
        "legend": {
         "title": {
          "text": "凡例"
         }
        },
        "shapes": [
         {
          "fillcolor": "red",
          "line": {
           "color": "red"
          },
          "name": "",
          "opacity": 0.3,
          "showlegend": false,
          "type": "circle",
          "x0": 4.027633760716439,
          "x1": 8.027633760716439,
          "xref": "x",
          "y0": 3.4488318299689684,
          "y1": 7.448831829968968,
          "yref": "y"
         },
         {
          "fillcolor": "red",
          "line": {
           "color": "red"
          },
          "name": "",
          "opacity": 0.3,
          "showlegend": false,
          "type": "circle",
          "x0": 7.786183422327641,
          "x1": 11.78618342232764,
          "xref": "x",
          "y0": 5.9915856421672355,
          "y1": 9.991585642167236,
          "yref": "y"
         },
         {
          "fillcolor": "red",
          "line": {
           "color": "red"
          },
          "name": "",
          "opacity": 0.3,
          "showlegend": false,
          "type": "circle",
          "x0": 2.6147936225293185,
          "x1": 6.6147936225293185,
          "xref": "x",
          "y0": 5.805291762864554,
          "y1": 9.805291762864554,
          "yref": "y"
         },
         {
          "fillcolor": "red",
          "line": {
           "color": "red"
          },
          "name": "",
          "opacity": 0.3,
          "showlegend": false,
          "type": "circle",
          "x0": -0.8172557413106678,
          "x1": 3.182744258689332,
          "xref": "x",
          "y0": 4.399210213275238,
          "y1": 8.39921021327524,
          "yref": "y"
         },
         {
          "fillcolor": "red",
          "line": {
           "color": "red"
          },
          "name": "",
          "opacity": 0.3,
          "showlegend": false,
          "type": "circle",
          "x0": -0.566467125909536,
          "x1": 3.433532874090464,
          "xref": "x",
          "y0": 7.446689170495839,
          "y1": 11.446689170495839,
          "yref": "y"
         }
        ],
        "template": {
         "data": {
          "bar": [
           {
            "error_x": {
             "color": "#2a3f5f"
            },
            "error_y": {
             "color": "#2a3f5f"
            },
            "marker": {
             "line": {
              "color": "#E5ECF6",
              "width": 0.5
             },
             "pattern": {
              "fillmode": "overlay",
              "size": 10,
              "solidity": 0.2
             }
            },
            "type": "bar"
           }
          ],
          "barpolar": [
           {
            "marker": {
             "line": {
              "color": "#E5ECF6",
              "width": 0.5
             },
             "pattern": {
              "fillmode": "overlay",
              "size": 10,
              "solidity": 0.2
             }
            },
            "type": "barpolar"
           }
          ],
          "carpet": [
           {
            "aaxis": {
             "endlinecolor": "#2a3f5f",
             "gridcolor": "white",
             "linecolor": "white",
             "minorgridcolor": "white",
             "startlinecolor": "#2a3f5f"
            },
            "baxis": {
             "endlinecolor": "#2a3f5f",
             "gridcolor": "white",
             "linecolor": "white",
             "minorgridcolor": "white",
             "startlinecolor": "#2a3f5f"
            },
            "type": "carpet"
           }
          ],
          "choropleth": [
           {
            "colorbar": {
             "outlinewidth": 0,
             "ticks": ""
            },
            "type": "choropleth"
           }
          ],
          "contour": [
           {
            "colorbar": {
             "outlinewidth": 0,
             "ticks": ""
            },
            "colorscale": [
             [
              0,
              "#0d0887"
             ],
             [
              0.1111111111111111,
              "#46039f"
             ],
             [
              0.2222222222222222,
              "#7201a8"
             ],
             [
              0.3333333333333333,
              "#9c179e"
             ],
             [
              0.4444444444444444,
              "#bd3786"
             ],
             [
              0.5555555555555556,
              "#d8576b"
             ],
             [
              0.6666666666666666,
              "#ed7953"
             ],
             [
              0.7777777777777778,
              "#fb9f3a"
             ],
             [
              0.8888888888888888,
              "#fdca26"
             ],
             [
              1,
              "#f0f921"
             ]
            ],
            "type": "contour"
           }
          ],
          "contourcarpet": [
           {
            "colorbar": {
             "outlinewidth": 0,
             "ticks": ""
            },
            "type": "contourcarpet"
           }
          ],
          "heatmap": [
           {
            "colorbar": {
             "outlinewidth": 0,
             "ticks": ""
            },
            "colorscale": [
             [
              0,
              "#0d0887"
             ],
             [
              0.1111111111111111,
              "#46039f"
             ],
             [
              0.2222222222222222,
              "#7201a8"
             ],
             [
              0.3333333333333333,
              "#9c179e"
             ],
             [
              0.4444444444444444,
              "#bd3786"
             ],
             [
              0.5555555555555556,
              "#d8576b"
             ],
             [
              0.6666666666666666,
              "#ed7953"
             ],
             [
              0.7777777777777778,
              "#fb9f3a"
             ],
             [
              0.8888888888888888,
              "#fdca26"
             ],
             [
              1,
              "#f0f921"
             ]
            ],
            "type": "heatmap"
           }
          ],
          "heatmapgl": [
           {
            "colorbar": {
             "outlinewidth": 0,
             "ticks": ""
            },
            "colorscale": [
             [
              0,
              "#0d0887"
             ],
             [
              0.1111111111111111,
              "#46039f"
             ],
             [
              0.2222222222222222,
              "#7201a8"
             ],
             [
              0.3333333333333333,
              "#9c179e"
             ],
             [
              0.4444444444444444,
              "#bd3786"
             ],
             [
              0.5555555555555556,
              "#d8576b"
             ],
             [
              0.6666666666666666,
              "#ed7953"
             ],
             [
              0.7777777777777778,
              "#fb9f3a"
             ],
             [
              0.8888888888888888,
              "#fdca26"
             ],
             [
              1,
              "#f0f921"
             ]
            ],
            "type": "heatmapgl"
           }
          ],
          "histogram": [
           {
            "marker": {
             "pattern": {
              "fillmode": "overlay",
              "size": 10,
              "solidity": 0.2
             }
            },
            "type": "histogram"
           }
          ],
          "histogram2d": [
           {
            "colorbar": {
             "outlinewidth": 0,
             "ticks": ""
            },
            "colorscale": [
             [
              0,
              "#0d0887"
             ],
             [
              0.1111111111111111,
              "#46039f"
             ],
             [
              0.2222222222222222,
              "#7201a8"
             ],
             [
              0.3333333333333333,
              "#9c179e"
             ],
             [
              0.4444444444444444,
              "#bd3786"
             ],
             [
              0.5555555555555556,
              "#d8576b"
             ],
             [
              0.6666666666666666,
              "#ed7953"
             ],
             [
              0.7777777777777778,
              "#fb9f3a"
             ],
             [
              0.8888888888888888,
              "#fdca26"
             ],
             [
              1,
              "#f0f921"
             ]
            ],
            "type": "histogram2d"
           }
          ],
          "histogram2dcontour": [
           {
            "colorbar": {
             "outlinewidth": 0,
             "ticks": ""
            },
            "colorscale": [
             [
              0,
              "#0d0887"
             ],
             [
              0.1111111111111111,
              "#46039f"
             ],
             [
              0.2222222222222222,
              "#7201a8"
             ],
             [
              0.3333333333333333,
              "#9c179e"
             ],
             [
              0.4444444444444444,
              "#bd3786"
             ],
             [
              0.5555555555555556,
              "#d8576b"
             ],
             [
              0.6666666666666666,
              "#ed7953"
             ],
             [
              0.7777777777777778,
              "#fb9f3a"
             ],
             [
              0.8888888888888888,
              "#fdca26"
             ],
             [
              1,
              "#f0f921"
             ]
            ],
            "type": "histogram2dcontour"
           }
          ],
          "mesh3d": [
           {
            "colorbar": {
             "outlinewidth": 0,
             "ticks": ""
            },
            "type": "mesh3d"
           }
          ],
          "parcoords": [
           {
            "line": {
             "colorbar": {
              "outlinewidth": 0,
              "ticks": ""
             }
            },
            "type": "parcoords"
           }
          ],
          "pie": [
           {
            "automargin": true,
            "type": "pie"
           }
          ],
          "scatter": [
           {
            "fillpattern": {
             "fillmode": "overlay",
             "size": 10,
             "solidity": 0.2
            },
            "type": "scatter"
           }
          ],
          "scatter3d": [
           {
            "line": {
             "colorbar": {
              "outlinewidth": 0,
              "ticks": ""
             }
            },
            "marker": {
             "colorbar": {
              "outlinewidth": 0,
              "ticks": ""
             }
            },
            "type": "scatter3d"
           }
          ],
          "scattercarpet": [
           {
            "marker": {
             "colorbar": {
              "outlinewidth": 0,
              "ticks": ""
             }
            },
            "type": "scattercarpet"
           }
          ],
          "scattergeo": [
           {
            "marker": {
             "colorbar": {
              "outlinewidth": 0,
              "ticks": ""
             }
            },
            "type": "scattergeo"
           }
          ],
          "scattergl": [
           {
            "marker": {
             "colorbar": {
              "outlinewidth": 0,
              "ticks": ""
             }
            },
            "type": "scattergl"
           }
          ],
          "scattermapbox": [
           {
            "marker": {
             "colorbar": {
              "outlinewidth": 0,
              "ticks": ""
             }
            },
            "type": "scattermapbox"
           }
          ],
          "scatterpolar": [
           {
            "marker": {
             "colorbar": {
              "outlinewidth": 0,
              "ticks": ""
             }
            },
            "type": "scatterpolar"
           }
          ],
          "scatterpolargl": [
           {
            "marker": {
             "colorbar": {
              "outlinewidth": 0,
              "ticks": ""
             }
            },
            "type": "scatterpolargl"
           }
          ],
          "scatterternary": [
           {
            "marker": {
             "colorbar": {
              "outlinewidth": 0,
              "ticks": ""
             }
            },
            "type": "scatterternary"
           }
          ],
          "surface": [
           {
            "colorbar": {
             "outlinewidth": 0,
             "ticks": ""
            },
            "colorscale": [
             [
              0,
              "#0d0887"
             ],
             [
              0.1111111111111111,
              "#46039f"
             ],
             [
              0.2222222222222222,
              "#7201a8"
             ],
             [
              0.3333333333333333,
              "#9c179e"
             ],
             [
              0.4444444444444444,
              "#bd3786"
             ],
             [
              0.5555555555555556,
              "#d8576b"
             ],
             [
              0.6666666666666666,
              "#ed7953"
             ],
             [
              0.7777777777777778,
              "#fb9f3a"
             ],
             [
              0.8888888888888888,
              "#fdca26"
             ],
             [
              1,
              "#f0f921"
             ]
            ],
            "type": "surface"
           }
          ],
          "table": [
           {
            "cells": {
             "fill": {
              "color": "#EBF0F8"
             },
             "line": {
              "color": "white"
             }
            },
            "header": {
             "fill": {
              "color": "#C8D4E3"
             },
             "line": {
              "color": "white"
             }
            },
            "type": "table"
           }
          ]
         },
         "layout": {
          "annotationdefaults": {
           "arrowcolor": "#2a3f5f",
           "arrowhead": 0,
           "arrowwidth": 1
          },
          "autotypenumbers": "strict",
          "coloraxis": {
           "colorbar": {
            "outlinewidth": 0,
            "ticks": ""
           }
          },
          "colorscale": {
           "diverging": [
            [
             0,
             "#8e0152"
            ],
            [
             0.1,
             "#c51b7d"
            ],
            [
             0.2,
             "#de77ae"
            ],
            [
             0.3,
             "#f1b6da"
            ],
            [
             0.4,
             "#fde0ef"
            ],
            [
             0.5,
             "#f7f7f7"
            ],
            [
             0.6,
             "#e6f5d0"
            ],
            [
             0.7,
             "#b8e186"
            ],
            [
             0.8,
             "#7fbc41"
            ],
            [
             0.9,
             "#4d9221"
            ],
            [
             1,
             "#276419"
            ]
           ],
           "sequential": [
            [
             0,
             "#0d0887"
            ],
            [
             0.1111111111111111,
             "#46039f"
            ],
            [
             0.2222222222222222,
             "#7201a8"
            ],
            [
             0.3333333333333333,
             "#9c179e"
            ],
            [
             0.4444444444444444,
             "#bd3786"
            ],
            [
             0.5555555555555556,
             "#d8576b"
            ],
            [
             0.6666666666666666,
             "#ed7953"
            ],
            [
             0.7777777777777778,
             "#fb9f3a"
            ],
            [
             0.8888888888888888,
             "#fdca26"
            ],
            [
             1,
             "#f0f921"
            ]
           ],
           "sequentialminus": [
            [
             0,
             "#0d0887"
            ],
            [
             0.1111111111111111,
             "#46039f"
            ],
            [
             0.2222222222222222,
             "#7201a8"
            ],
            [
             0.3333333333333333,
             "#9c179e"
            ],
            [
             0.4444444444444444,
             "#bd3786"
            ],
            [
             0.5555555555555556,
             "#d8576b"
            ],
            [
             0.6666666666666666,
             "#ed7953"
            ],
            [
             0.7777777777777778,
             "#fb9f3a"
            ],
            [
             0.8888888888888888,
             "#fdca26"
            ],
            [
             1,
             "#f0f921"
            ]
           ]
          },
          "colorway": [
           "#636efa",
           "#EF553B",
           "#00cc96",
           "#ab63fa",
           "#FFA15A",
           "#19d3f3",
           "#FF6692",
           "#B6E880",
           "#FF97FF",
           "#FECB52"
          ],
          "font": {
           "color": "#2a3f5f"
          },
          "geo": {
           "bgcolor": "white",
           "lakecolor": "white",
           "landcolor": "#E5ECF6",
           "showlakes": true,
           "showland": true,
           "subunitcolor": "white"
          },
          "hoverlabel": {
           "align": "left"
          },
          "hovermode": "closest",
          "mapbox": {
           "style": "light"
          },
          "paper_bgcolor": "white",
          "plot_bgcolor": "#E5ECF6",
          "polar": {
           "angularaxis": {
            "gridcolor": "white",
            "linecolor": "white",
            "ticks": ""
           },
           "bgcolor": "#E5ECF6",
           "radialaxis": {
            "gridcolor": "white",
            "linecolor": "white",
            "ticks": ""
           }
          },
          "scene": {
           "xaxis": {
            "backgroundcolor": "#E5ECF6",
            "gridcolor": "white",
            "gridwidth": 2,
            "linecolor": "white",
            "showbackground": true,
            "ticks": "",
            "zerolinecolor": "white"
           },
           "yaxis": {
            "backgroundcolor": "#E5ECF6",
            "gridcolor": "white",
            "gridwidth": 2,
            "linecolor": "white",
            "showbackground": true,
            "ticks": "",
            "zerolinecolor": "white"
           },
           "zaxis": {
            "backgroundcolor": "#E5ECF6",
            "gridcolor": "white",
            "gridwidth": 2,
            "linecolor": "white",
            "showbackground": true,
            "ticks": "",
            "zerolinecolor": "white"
           }
          },
          "shapedefaults": {
           "line": {
            "color": "#2a3f5f"
           }
          },
          "ternary": {
           "aaxis": {
            "gridcolor": "white",
            "linecolor": "white",
            "ticks": ""
           },
           "baxis": {
            "gridcolor": "white",
            "linecolor": "white",
            "ticks": ""
           },
           "bgcolor": "#E5ECF6",
           "caxis": {
            "gridcolor": "white",
            "linecolor": "white",
            "ticks": ""
           }
          },
          "title": {
           "x": 0.05
          },
          "xaxis": {
           "automargin": true,
           "gridcolor": "white",
           "linecolor": "white",
           "ticks": "",
           "title": {
            "standoff": 15
           },
           "zerolinecolor": "white",
           "zerolinewidth": 2
          },
          "yaxis": {
           "automargin": true,
           "gridcolor": "white",
           "linecolor": "white",
           "ticks": "",
           "title": {
            "standoff": 15
           },
           "zerolinecolor": "white",
           "zerolinewidth": 2
          }
         }
        },
        "title": {
         "text": "街灯の設置問題とカバー範囲 - カバー率: 85.00%"
        },
        "width": 800,
        "xaxis": {
         "range": [
          -1,
          12
         ],
         "title": {
          "text": "x座標"
         }
        },
        "yaxis": {
         "range": [
          -1,
          12
         ],
         "title": {
          "text": "y座標"
         }
        }
       }
      }
     },
     "metadata": {},
     "output_type": "display_data"
    }
   ],
   "source": [
    "import plotly.graph_objects as go\n",
    "\n",
    "\n",
    "# 結果の可視化\n",
    "is_legend_placed_lamps = True\n",
    "is_legend_not_placed_lamps = True\n",
    "is_plot_covered_points = True\n",
    "\n",
    "\n",
    "fig = go.Figure()\n",
    "for i, (pos, lamp, cover) in enumerate(zip(positions, lamp_status, point_covered)):\n",
    "    if lamp == 1:\n",
    "        fig.add_shape(\n",
    "            type=\"circle\",\n",
    "            xref=\"x\",\n",
    "            yref=\"y\",\n",
    "            x0=pos[0] - coverage_range,\n",
    "            y0=pos[1] - coverage_range,\n",
    "            x1=pos[0] + coverage_range,\n",
    "            y1=pos[1] + coverage_range,\n",
    "            line_color=\"red\",\n",
    "            fillcolor=\"red\",\n",
    "            opacity=0.3,\n",
    "            name=\"カバー範囲\" if i == 0 else \"\",\n",
    "            showlegend=False,\n",
    "        )\n",
    "        show_legend = is_legend_placed_lamps\n",
    "        fig.add_trace(\n",
    "            go.Scatter(\n",
    "                x=[pos[0]],\n",
    "                y=[pos[1]],\n",
    "                mode=\"markers\",\n",
    "                marker=dict(color=\"blue\", symbol=\"triangle-up\", size=12),\n",
    "                name=\"街灯（設置済み）\",\n",
    "                showlegend=show_legend,\n",
    "            )\n",
    "        )\n",
    "        is_legend_placed_lamps = False\n",
    "    elif cover == 0:\n",
    "        show_legend = i not in mandatory_points and is_plot_covered_points\n",
    "        fig.add_trace(\n",
    "            go.Scatter(\n",
    "                x=[pos[0]],\n",
    "                y=[pos[1]],\n",
    "                mode=\"markers\",\n",
    "                marker=dict(color=\"black\", symbol=\"circle\", size=10),\n",
    "                name=\"カバーされていない位置\"\n",
    "                if i not in mandatory_points and is_plot_covered_points\n",
    "                else \"\",\n",
    "                showlegend=show_legend,\n",
    "            )\n",
    "        )\n",
    "        is_plot_covered_points = False\n",
    "    elif i in mandatory_points:\n",
    "        show_legend = i == mandatory_points[0]\n",
    "        fig.add_trace(\n",
    "            go.Scatter(\n",
    "                x=[pos[0]],\n",
    "                y=[pos[1]],\n",
    "                mode=\"markers\",\n",
    "                marker=dict(color=\"red\", symbol=\"star\", size=15),\n",
    "                name=\"必須カバー位置\",\n",
    "                showlegend=show_legend,\n",
    "            )\n",
    "        )\n",
    "    else:\n",
    "        show_legend = is_legend_not_placed_lamps\n",
    "        fig.add_trace(\n",
    "            go.Scatter(\n",
    "                x=[pos[0]],\n",
    "                y=[pos[1]],\n",
    "                mode=\"markers\",\n",
    "                marker=dict(color=\"green\", symbol=\"square\", size=12),\n",
    "                name=\"カバーされた位置\",\n",
    "                showlegend=show_legend,\n",
    "            )\n",
    "        )\n",
    "        is_legend_not_placed_lamps = False\n",
    "\n",
    "# グラフ設定\n",
    "fig.update_layout(\n",
    "    title=f\"街灯の設置問題とカバー範囲 - カバー率: {coverage_rate:.2f}%\",\n",
    "    xaxis_title=\"x座標\",\n",
    "    yaxis_title=\"y座標\",\n",
    "    legend_title=\"凡例\",\n",
    "    width=800,\n",
    "    height=800,\n",
    "    xaxis=dict(range=[-1, 12]),\n",
    "    yaxis=dict(range=[-1, 12]),\n",
    ")\n",
    "\n",
    "fig.show()"
   ]
  },
  {
   "cell_type": "code",
   "execution_count": null,
   "metadata": {},
   "outputs": [],
   "source": []
  }
 ],
 "metadata": {
  "kernelspec": {
   "display_name": "Python 3",
   "language": "python",
   "name": "python3"
  },
  "language_info": {
   "codemirror_mode": {
    "name": "ipython",
    "version": 3
   },
   "file_extension": ".py",
   "mimetype": "text/x-python",
   "name": "python",
   "nbconvert_exporter": "python",
   "pygments_lexer": "ipython3",
   "version": "3.10.13"
  }
 },
 "nbformat": 4,
 "nbformat_minor": 2
}
